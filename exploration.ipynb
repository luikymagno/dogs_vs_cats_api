{
 "cells": [
  {
   "cell_type": "markdown",
   "metadata": {},
   "source": [
    "# Dogs vs Cats Image Classification"
   ]
  },
  {
   "cell_type": "markdown",
   "metadata": {},
   "source": [
    "In this notebook, we'll explore some options to implement a model able to classify images of cats and dogs"
   ]
  },
  {
   "cell_type": "code",
   "execution_count": 28,
   "metadata": {},
   "outputs": [],
   "source": [
    "import os\n",
    "import random as rd\n",
    "import shutil\n",
    "import tensorflow as tf"
   ]
  },
  {
   "cell_type": "code",
   "execution_count": 3,
   "metadata": {},
   "outputs": [],
   "source": [
    "# Basic initialization\n",
    "rd.seed(9)\n",
    "tf.random.set_seed(9)\n",
    "CAT_AND_DOGS_DATA_URL: str = \"https://storage.googleapis.com/mledu-datasets/cats_and_dogs_filtered.zip\""
   ]
  },
  {
   "cell_type": "markdown",
   "metadata": {},
   "source": [
    "## Data loading"
   ]
  },
  {
   "cell_type": "markdown",
   "metadata": {},
   "source": [
    "To build our image classifier, we begin by downloading the dataset. The dataset we are using is a filtered version of <a href=\"https://www.kaggle.com/c/dogs-vs-cats/data\" target=\"_blank\">Dogs vs. Cats</a> dataset from Kaggle (ultimately, this dataset is provided by Microsoft Research)."
   ]
  },
  {
   "cell_type": "code",
   "execution_count": 23,
   "metadata": {},
   "outputs": [
    {
     "name": "stdout",
     "output_type": "stream",
     "text": [
      "Number of training images for dogs: 1000\n",
      "Number of training images for cats: 1000\n",
      "Number of validation images for dogs: 500\n",
      "Number of validation images for cats: 500\n"
     ]
    }
   ],
   "source": [
    "data_folder_name: str = \"cats_and_dogs_filtered\"\n",
    "zip_dir: str = tf.keras.utils.get_file(\n",
    "    fname=f\"{data_folder_name}.zip\",\n",
    "    origin=CAT_AND_DOGS_DATA_URL,\n",
    "    extract=True # Extract the content from the zip file in the .keras folder\n",
    ")\n",
    "\n",
    "data_folder_path: str = f\"{os.getcwd()}/{data_folder_name}\"\n",
    "# Check if the data already exists in the current directory\n",
    "if not os.path.isdir(data_folder_path):\n",
    "    # Copy the data from the .keras folder to the current folder\n",
    "    shutil.copytree(src=f\"{os.path.dirname(zip_dir)}/{data_folder_name}\", dst=f\"{os.getcwd()}/{data_folder_name}\")\n",
    "\n",
    "train_dog_dir: str = f\"{data_folder_path}/train/dogs\"\n",
    "train_cat_dir: str = f\"{data_folder_path}/train/cats\"\n",
    "validation_dog_dir: str = f\"{data_folder_path}/validation/dogs\"\n",
    "validation_cat_dir: str = f\"{data_folder_path}/validation/cats\"\n",
    "\n",
    "print(f\"Number of training images for dogs: {len(os.listdir(train_dog_dir))}\")\n",
    "print(f\"Number of training images for cats: {len(os.listdir(train_cat_dir))}\")\n",
    "print(f\"Number of validation images for dogs: {len(os.listdir(validation_dog_dir))}\")\n",
    "print(f\"Number of validation images for cats: {len(os.listdir(validation_cat_dir))}\")"
   ]
  },
  {
   "cell_type": "markdown",
   "metadata": {},
   "source": [
    "The data provided in the dataset only have the train and validation datasets, but not the test one. To solve this, we'll split the validation set to create a test set."
   ]
  },
  {
   "cell_type": "code",
   "execution_count": 33,
   "metadata": {},
   "outputs": [
    {
     "name": "stdout",
     "output_type": "stream",
     "text": [
      "Number of training images for dogs: 1000\n",
      "Number of training images for cats: 1000\n",
      "Number of validation images for dogs: 250\n",
      "Number of validation images for cats: 250\n",
      "Number of validation images for dogs: 250\n",
      "Number of validation images for cats: 250\n"
     ]
    }
   ],
   "source": [
    "nb_test_dog_images: int = int(len(os.listdir(validation_dog_dir))/2)\n",
    "nb_test_cat_images: int = int(len(os.listdir(validation_cat_dir))/2)\n",
    "\n",
    "test_folder_path: str = f\"{os.getcwd()}/{data_folder_name}/test\"\n",
    "test_dog_dir: str = f\"{test_folder_path}/dogs\"\n",
    "test_cat_dir: str = f\"{test_folder_path}/cats\"\n",
    "# Check if the test directory already exists\n",
    "if not os.path.isdir(test_folder_path):\n",
    "    os.mkdir(test_folder_path)\n",
    "\n",
    "    # Pick random files from the validation set to move to the test set\n",
    "    os.mkdir(test_dog_dir)\n",
    "    for i in range(nb_test_dog_images):\n",
    "        shutil.move(src=f\"{validation_dog_dir}/{rd.choice(os.listdir(validation_dog_dir))}\", dst=test_dog_dir)\n",
    "    os.mkdir(test_cat_dir)\n",
    "    for i in range(nb_test_cat_images):\n",
    "        shutil.move(src=f\"{validation_cat_dir}/{rd.choice(os.listdir(validation_cat_dir))}\", dst=test_cat_dir)\n",
    "\n",
    "print(f\"Number of training images for dogs: {len(os.listdir(train_dog_dir))}\")\n",
    "print(f\"Number of training images for cats: {len(os.listdir(train_cat_dir))}\")\n",
    "print(f\"Number of validation images for dogs: {len(os.listdir(validation_dog_dir))}\")\n",
    "print(f\"Number of validation images for cats: {len(os.listdir(validation_cat_dir))}\")\n",
    "print(f\"Number of test images for dogs: {len(os.listdir(test_dog_dir))}\")\n",
    "print(f\"Number of test images for cats: {len(os.listdir(test_cat_dir))}\")"
   ]
  },
  {
   "cell_type": "code",
   "execution_count": 31,
   "metadata": {},
   "outputs": [
    {
     "data": {
      "text/plain": [
       "'/home/luiky/Documents/repositories/dogs_vs_cats_api/cats_and_dogs_filtered/validation/dogs/dog.2225.jpg'"
      ]
     },
     "execution_count": 31,
     "metadata": {},
     "output_type": "execute_result"
    }
   ],
   "source": [
    "f\"{validation_dog_dir}/{rd.choice(os.listdir(validation_dog_dir))}\""
   ]
  }
 ],
 "metadata": {
  "interpreter": {
   "hash": "0e4feaec6bfbbaec56cc1661dd978f11afb8cd7faa53c9646a0edea83f8881e2"
  },
  "kernelspec": {
   "display_name": "Python 3.9.11 64-bit ('dogs_vs_cats_api_3911')",
   "language": "python",
   "name": "python3"
  },
  "language_info": {
   "codemirror_mode": {
    "name": "ipython",
    "version": 3
   },
   "file_extension": ".py",
   "mimetype": "text/x-python",
   "name": "python",
   "nbconvert_exporter": "python",
   "pygments_lexer": "ipython3",
   "version": "3.9.11"
  },
  "orig_nbformat": 4
 },
 "nbformat": 4,
 "nbformat_minor": 2
}
